{
  "nbformat": 4,
  "nbformat_minor": 0,
  "metadata": {
    "colab": {
      "provenance": [],
      "collapsed_sections": [
        "GNbXZ-Vdyh0f",
        "heT5-Clc1312",
        "ox9-nPAUyzqg",
        "f0ERDH0LdpFD",
        "lpxrgBOSf-en",
        "GpFu_zpYiXIh",
        "nkhU4bNcixzC",
        "bT_1ppfsmaLE"
      ],
      "authorship_tag": "ABX9TyN+RZu4dlN6060pYtyqWxc5",
      "include_colab_link": true
    },
    "kernelspec": {
      "name": "python3",
      "display_name": "Python 3"
    },
    "language_info": {
      "name": "python"
    }
  },
  "cells": [
    {
      "cell_type": "markdown",
      "metadata": {
        "id": "view-in-github",
        "colab_type": "text"
      },
      "source": [
        "<a href=\"https://colab.research.google.com/github/Staffilon/KestraDataOrchestrator/blob/main/Analysis_and_Exploration/pieces_produced_dataset_cleaning.ipynb\" target=\"_parent\"><img src=\"https://colab.research.google.com/assets/colab-badge.svg\" alt=\"Open In Colab\"/></a>"
      ]
    },
    {
      "cell_type": "code",
      "execution_count": 1,
      "metadata": {
        "colab": {
          "base_uri": "https://localhost:8080/"
        },
        "id": "tkabutrq6xqw",
        "outputId": "67cda176-0257-4084-9c40-c81251265cee"
      },
      "outputs": [
        {
          "output_type": "stream",
          "name": "stdout",
          "text": [
            "Mounted at /content/gdrive\n"
          ]
        }
      ],
      "source": [
        "from google.colab import drive\n",
        "drive.mount('/content/gdrive')"
      ]
    },
    {
      "cell_type": "code",
      "source": [
        "%cd \"gdrive/MyDrive/Dati-TBDM/energy_bak/energy_bak\""
      ],
      "metadata": {
        "colab": {
          "base_uri": "https://localhost:8080/"
        },
        "id": "rxr4HjY164l4",
        "outputId": "e83a0acb-4a70-4a23-95cd-742a067b5198"
      },
      "execution_count": 2,
      "outputs": [
        {
          "output_type": "stream",
          "name": "stdout",
          "text": [
            "/content/gdrive/.shortcut-targets-by-id/1xGTanGyuk-TCLCMoGz5VNG7sUEscVC-Z/Dati-TBDM/energy_bak/energy_bak\n"
          ]
        }
      ]
    },
    {
      "cell_type": "code",
      "source": [
        "import pandas as pd\n",
        "import os\n",
        "from multiprocessing import Pool, cpu_count"
      ],
      "metadata": {
        "id": "7oTVKSf37sLg"
      },
      "execution_count": 3,
      "outputs": []
    },
    {
      "cell_type": "code",
      "source": [
        "# Define the working directory\n",
        "working_directory = os.getcwd()"
      ],
      "metadata": {
        "id": "F5iM3DDskfjG"
      },
      "execution_count": 4,
      "outputs": []
    },
    {
      "cell_type": "markdown",
      "source": [
        "Controls how many files fail to open. Initially, 90 files couldn't open because of messed up columns"
      ],
      "metadata": {
        "id": "hsYOwUgLjD6B"
      }
    },
    {
      "cell_type": "code",
      "source": [
        "def process_file(filename):\n",
        "    file_path = os.path.join(folder_path, filename)\n",
        "    try:\n",
        "        pd.read_csv(file_path, encoding='latin1')\n",
        "    except pd.errors.ParserError:\n",
        "        print(f\"Failed to open file: {filename}\")\n",
        "        return 1\n",
        "    return 0\n",
        "\n",
        "if __name__ == '__main__':\n",
        "    folder_path = os.getcwd()  # Get the current working directory\n",
        "    error_count = 0\n",
        "\n",
        "    file_list = [filename for filename in os.listdir(folder_path) if filename.endswith(\".csv\")]\n",
        "\n",
        "    with Pool() as pool:\n",
        "        error_count += sum(pool.map(process_file, file_list))\n",
        "\n",
        "    print(f\"Total number of files with parsing errors: {error_count}\")\n"
      ],
      "metadata": {
        "id": "KWqFOXjx_30Y"
      },
      "execution_count": null,
      "outputs": []
    },
    {
      "cell_type": "markdown",
      "source": [
        "# File Formatting\n",
        "Files have columns with shifted values, making them impossible to open with pandas.\n",
        "In this section we will format them"
      ],
      "metadata": {
        "id": "GNbXZ-Vdyh0f"
      }
    },
    {
      "cell_type": "markdown",
      "source": [
        "Fix the colulmns of the files. Columns could iether:\n",
        "\n",
        "*   Be shifted by one field and have a 5,a 9 or a 51/2\" on column 3/4\n",
        "*   Be shifted by one field and have a 0 on column 8"
      ],
      "metadata": {
        "id": "gerp6E1mjRHU"
      }
    },
    {
      "cell_type": "code",
      "source": [
        "# Function to preprocess CSV files\n",
        "def preprocess_csv_files(folder_path):\n",
        "    # Get a list of all files in the directory\n",
        "    file_list = os.listdir(folder_path)\n",
        "\n",
        "    # Iterate over each file in the directory\n",
        "    for filename in file_list:\n",
        "        # Check if the file starts with \"Tormatic\" and ends with \".csv\"\n",
        "        if filename.startswith(\"Tormatic\") and filename.endswith(\".csv\"):\n",
        "            file_path = os.path.join(folder_path, filename)\n",
        "            print(\"Processing file:\", filename)\n",
        "\n",
        "            # Process the CSV file\n",
        "            with open(file_path, 'r', encoding='latin1') as file:\n",
        "                lines = file.readlines()\n",
        "\n",
        "            processed_lines = []\n",
        "            for line in lines:\n",
        "                fields = line.replace(' ', '').strip().split(',')\n",
        "\n",
        "                # Check if the extra value '5' is present in the third column\n",
        "                if len(fields) >= 3 and fields[2] == '5':\n",
        "                    # If '5' is present in the third column, remove it\n",
        "                    fields.pop(2)\n",
        "                elif len(fields) >= 4 and fields[3] == '5':\n",
        "                    # If '5' is present in the fourth column, remove it\n",
        "                    fields.pop(3)\n",
        "                elif len(fields) == 8 and fields[7] == '0':\n",
        "                    # If '5' is present in the fourth column, remove it\n",
        "                    fields.pop(7)\n",
        "                    print(\"Deleted value '0'\")\n",
        "\n",
        "                # Reconstruct the line without the removed column\n",
        "                line = ','.join(fields) + '\\n'  # Assuming comma-separated values\n",
        "                processed_lines.append(line)\n",
        "\n",
        "            # Write the processed lines back to the file\n",
        "            with open(file_path, 'w') as file:\n",
        "                file.writelines(processed_lines)\n",
        "\n",
        "            print(\"File\", filename, \"processed and saved.\")\n",
        "\n",
        "# Preprocess all CSV files in the working directory\n",
        "preprocess_csv_files(working_directory)"
      ],
      "metadata": {
        "id": "wHlPGsVlY6-C"
      },
      "execution_count": null,
      "outputs": []
    },
    {
      "cell_type": "code",
      "source": [
        "# Define the path to the CSV file\n",
        "file_path = 'Tormatic_20230531_ 3303207.csv'\n",
        "\n",
        "# Function to preprocess the CSV file\n",
        "def preprocess_csv(file_path):\n",
        "    # Read the CSV file into a list of lines\n",
        "    with open(file_path, 'r', encoding='latin1') as file:\n",
        "        lines = file.readlines()\n",
        "\n",
        "    # Replace or remove the problematic value from each line\n",
        "    processed_lines = []\n",
        "    for line in lines:\n",
        "        # Check if the problematic value is present in the line\n",
        "        if \"51/2\" in line:\n",
        "            # Replace \"5 1/2\" with an empty string to remove it\n",
        "            line = line.replace(\"51/2\", \"\")\n",
        "            print('deleted')\n",
        "        processed_lines.append(line)\n",
        "\n",
        "    # Write the processed lines back to the CSV file\n",
        "    with open(file_path, 'w', encoding='latin1') as file:\n",
        "        file.writelines(processed_lines)\n",
        "\n",
        "# Preprocess the CSV file\n",
        "preprocess_csv(file_path)"
      ],
      "metadata": {
        "colab": {
          "base_uri": "https://localhost:8080/"
        },
        "id": "RBIoUNEcqyGh",
        "outputId": "2fd7e5b2-f260-4ccd-f6be-78ad2ded301b"
      },
      "execution_count": null,
      "outputs": [
        {
          "output_type": "stream",
          "name": "stdout",
          "text": [
            "deleted\n"
          ]
        }
      ]
    },
    {
      "cell_type": "code",
      "source": [
        "# Define the path to the CSV file\n",
        "file_path = 'Tormatic_20230530_12522729.csv'\n",
        "\n",
        "# Process the CSV file\n",
        "with open(file_path, 'r', encoding='latin1') as file:\n",
        "    lines = file.readlines()\n",
        "\n",
        "processed_lines = []\n",
        "for line in lines:\n",
        "    fields = line.replace(' ', '').strip().split(',')\n",
        "\n",
        "    # Check if the extra value '9' is present in the third column\n",
        "    if len(fields) >= 3 and fields[2] == '9':\n",
        "        # If '9' is present in the third column, remove it\n",
        "        fields.pop(2)\n",
        "        print(\"deleted on third column\")\n",
        "    elif len(fields) >= 4 and fields[3] == '9':\n",
        "        # If '9' is present in the fourth column, remove it\n",
        "        fields.pop(3)\n",
        "        print(\"deleted on fourth column\")\n",
        "    elif len(fields) >= 4 and fields[3] == '51/2\"':\n",
        "        # If '51/2\"' is present in the fourth column, remove it\n",
        "        fields.pop(3)\n",
        "        print(\"deleted 51/2 on fourth column\")\n",
        "\n",
        "\n",
        "    # Reconstruct the line without the removed column\n",
        "    line = ','.join(fields) + '\\n'  # Assuming comma-separated values\n",
        "    processed_lines.append(line)\n",
        "\n",
        "# Write the processed lines back to the file\n",
        "with open(file_path, 'w') as file:\n",
        "    file.writelines(processed_lines)\n",
        "\n",
        "print(\"File\", file_path, \"processed and saved.\")"
      ],
      "metadata": {
        "id": "ILRXCUr9tiPp"
      },
      "execution_count": null,
      "outputs": []
    },
    {
      "cell_type": "markdown",
      "source": [
        "# Deletion of unusable files\n",
        "There are a couple of files that have no use and cannot be merged in the final dataset"
      ],
      "metadata": {
        "id": "heT5-Clc1312"
      }
    },
    {
      "cell_type": "code",
      "source": [
        "df = pd.read_csv('Tormatic_20211217_18331426.csv')\n",
        "\n",
        "df.info()"
      ],
      "metadata": {
        "colab": {
          "base_uri": "https://localhost:8080/"
        },
        "id": "N-TQmK5_mwpO",
        "outputId": "a44fd547-579a-4a97-9ed7-2117b81c6300"
      },
      "execution_count": null,
      "outputs": [
        {
          "output_type": "stream",
          "name": "stdout",
          "text": [
            "<class 'pandas.core.frame.DataFrame'>\n",
            "RangeIndex: 4 entries, 0 to 3\n",
            "Data columns (total 7 columns):\n",
            " #   Column      Non-Null Count  Dtype \n",
            "---  ------      --------------  ----- \n",
            " 0   ID_ROW      4 non-null      object\n",
            " 1   COD_TORNIO  3 non-null      object\n",
            " 2   COD_PART    3 non-null      object\n",
            " 3   TS_START    3 non-null      object\n",
            " 4   TS_END      3 non-null      object\n",
            " 5   N_PTZ       3 non-null      object\n",
            " 6   EXP_STATUS  3 non-null      object\n",
            "dtypes: object(7)\n",
            "memory usage: 352.0+ bytes\n"
          ]
        }
      ]
    },
    {
      "cell_type": "code",
      "source": [
        "df = pd.read_csv('Tormatic_20211217_18312033.csv')\n",
        "\n",
        "df.info()"
      ],
      "metadata": {
        "colab": {
          "base_uri": "https://localhost:8080/"
        },
        "id": "kEvYcysv1NQP",
        "outputId": "75d403c9-a800-4795-aafd-f63cc5692c43"
      },
      "execution_count": null,
      "outputs": [
        {
          "output_type": "stream",
          "name": "stdout",
          "text": [
            "<class 'pandas.core.frame.DataFrame'>\n",
            "RangeIndex: 3 entries, 0 to 2\n",
            "Data columns (total 7 columns):\n",
            " #   Column      Non-Null Count  Dtype \n",
            "---  ------      --------------  ----- \n",
            " 0   ID_ROW      3 non-null      object\n",
            " 1   COD_TORNIO  2 non-null      object\n",
            " 2   COD_PART    2 non-null      object\n",
            " 3   TS_START    2 non-null      object\n",
            " 4   TS_END      2 non-null      object\n",
            " 5   N_PTZ       2 non-null      object\n",
            " 6   EXP_STATUS  2 non-null      object\n",
            "dtypes: object(7)\n",
            "memory usage: 296.0+ bytes\n"
          ]
        }
      ]
    },
    {
      "cell_type": "markdown",
      "source": [
        "By comparison these are the columns needed"
      ],
      "metadata": {
        "id": "k6YwVjGo2Ei_"
      }
    },
    {
      "cell_type": "code",
      "source": [
        "df = pd.read_csv('Tormatic_20231219_ 3303217.csv')\n",
        "\n",
        "df.info()"
      ],
      "metadata": {
        "colab": {
          "base_uri": "https://localhost:8080/"
        },
        "id": "rnSvFyaNz8oV",
        "outputId": "204f688f-c9e9-4782-c8e7-a6f90fce6da1"
      },
      "execution_count": null,
      "outputs": [
        {
          "output_type": "stream",
          "name": "stdout",
          "text": [
            "<class 'pandas.core.frame.DataFrame'>\n",
            "RangeIndex: 20855 entries, 0 to 20854\n",
            "Data columns (total 8 columns):\n",
            " #   Column             Non-Null Count  Dtype \n",
            "---  ------             --------------  ----- \n",
            " 0   ID                 20855 non-null  object\n",
            " 1   COD_MACC           20854 non-null  object\n",
            " 2   COD_ART            20854 non-null  object\n",
            " 3   TIMESTAMP_INIZIO   20854 non-null  object\n",
            " 4   TIMESTAMP_FINE     20854 non-null  object\n",
            " 5   NUMERO_PEZZI_PROD  20854 non-null  object\n",
            " 6   EXP_STATUS         20854 non-null  object\n",
            " 7   ODP                20854 non-null  object\n",
            "dtypes: object(8)\n",
            "memory usage: 1.3+ MB\n"
          ]
        }
      ]
    },
    {
      "cell_type": "markdown",
      "source": [
        "There are also files couldn't be filled because of some errors."
      ],
      "metadata": {
        "id": "qmfH15N15CEN"
      }
    },
    {
      "cell_type": "code",
      "source": [
        "df = pd.read_csv('Tormatic_20220702_ 3310157.csv')\n",
        "df.info()"
      ],
      "metadata": {
        "colab": {
          "base_uri": "https://localhost:8080/"
        },
        "id": "Cu8XsbW34AfQ",
        "outputId": "e2fe37cd-5fbe-440d-8d33-f5fea84941cc"
      },
      "execution_count": null,
      "outputs": [
        {
          "output_type": "stream",
          "name": "stdout",
          "text": [
            "<class 'pandas.core.frame.DataFrame'>\n",
            "RangeIndex: 2 entries, 0 to 1\n",
            "Data columns (total 1 columns):\n",
            " #   Column                                                                                                                Non-Null Count  Dtype \n",
            "---  ------                                                                                                                --------------  ----- \n",
            " 0   Sqlcmd:errore:MicrosoftODBCDriver17forSQLServer:ProviderSSL:Connessioneincorsointerrottaforzatamentedall'hostremoto.  2 non-null      object\n",
            "dtypes: object(1)\n",
            "memory usage: 144.0+ bytes\n"
          ]
        }
      ]
    },
    {
      "cell_type": "code",
      "source": [
        "df = pd.read_csv('Tormatic_20220715_ 3310169.csv')\n",
        "df.info()"
      ],
      "metadata": {
        "colab": {
          "base_uri": "https://localhost:8080/"
        },
        "id": "tZ4BHMGW4b5D",
        "outputId": "36d8fa66-58e8-4996-a5b1-a78dd221a7b9"
      },
      "execution_count": null,
      "outputs": [
        {
          "output_type": "stream",
          "name": "stdout",
          "text": [
            "<class 'pandas.core.frame.DataFrame'>\n",
            "RangeIndex: 2 entries, 0 to 1\n",
            "Data columns (total 1 columns):\n",
            " #   Column                                                                                                                Non-Null Count  Dtype \n",
            "---  ------                                                                                                                --------------  ----- \n",
            " 0   Sqlcmd:errore:MicrosoftODBCDriver17forSQLServer:ProviderSSL:Connessioneincorsointerrottaforzatamentedall'hostremoto.  2 non-null      object\n",
            "dtypes: object(1)\n",
            "memory usage: 144.0+ bytes\n"
          ]
        }
      ]
    },
    {
      "cell_type": "markdown",
      "source": [
        "The simplest choice is to delete these files since their entries are insignificant"
      ],
      "metadata": {
        "id": "qTXBHthj1rcl"
      }
    },
    {
      "cell_type": "code",
      "source": [
        "# List of file names to delete\n",
        "files_to_delete = [\"Tormatic_20211217_18331426.csv\",\n",
        "                   \"Tormatic_20211217_18312033.csv\",\n",
        "                   \"Tormatic_20220702_ 3310157.csv\",\n",
        "                   \"Tormatic_20220715_ 3310169.csv\"]\n",
        "\n",
        "# Iterate over the list of files and delete each one\n",
        "for filename in files_to_delete:\n",
        "    try:\n",
        "        os.remove(filename)\n",
        "        print(f\"File '{filename}' deleted successfully.\")\n",
        "    except OSError as e:\n",
        "        print(f\"Error deleting file '{filename}': {e}\")"
      ],
      "metadata": {
        "id": "K7erMWzE2M6a"
      },
      "execution_count": null,
      "outputs": []
    },
    {
      "cell_type": "markdown",
      "source": [
        "# Dataset Cleaning\n",
        "This section involves taking out useless data and columns.\n",
        "First, I want to check if there are files that do not have the target column"
      ],
      "metadata": {
        "id": "ox9-nPAUyzqg"
      }
    },
    {
      "cell_type": "code",
      "source": [
        "# Function to check if a file has the column 'NUMERO_PEZZI_PROD'\n",
        "def has_column(file_path):\n",
        "    try:\n",
        "        df = pd.read_csv(file_path, encoding='latin1')\n",
        "        return 'NUMERO_PEZZI_PROD' not in df.columns\n",
        "    except Exception as e:\n",
        "        print(f\"Error reading file '{file_path}': {e}\")\n",
        "        return True  # Treat as if the column is not present\n",
        "\n",
        "# Function to process each file and check if it has the column\n",
        "def process_file(filename):\n",
        "    file_path = os.path.join(working_directory, filename)\n",
        "    if has_column(file_path):\n",
        "        print(f\"File '{filename}' does not have the column 'NUMERO_PEZZI_PROD'\")\n",
        "\n",
        "# Get a list of all files in the directory starting with \"Tormatic\"\n",
        "file_list = [f for f in os.listdir(working_directory) if f.startswith(\"Tormatic\") and f.endswith(\".csv\")]\n",
        "\n",
        "# Create a Pool of worker processes\n",
        "with Pool() as pool:\n",
        "    # Map the process_file function to each file in the file list\n",
        "    pool.map(process_file, file_list)"
      ],
      "metadata": {
        "id": "EjsY4VpCmVFj"
      },
      "execution_count": null,
      "outputs": []
    },
    {
      "cell_type": "markdown",
      "source": [
        "The below code will delete all entries with 0 produced pieces"
      ],
      "metadata": {
        "id": "Se8XFuOWkiZT"
      }
    },
    {
      "cell_type": "code",
      "source": [
        "# Function to preprocess a single CSV file\n",
        "def preprocess_csv_file(file_path):\n",
        "    print(\"Processing file:\", os.path.basename(file_path))\n",
        "\n",
        "    # Read the CSV file into a DataFrame and filter rows where NUMERO_PEZZI_PROD is not 0\n",
        "    df = pd.read_csv(file_path, encoding='latin1')\n",
        "    df = df[df['NUMERO_PEZZI_PROD'] != 0]\n",
        "\n",
        "    # Write the modified DataFrame back to the CSV file\n",
        "    df.to_csv(file_path, index=False, encoding='latin1')\n",
        "\n",
        "    print(\"File\", os.path.basename(file_path), \"processed and saved.\")\n",
        "\n",
        "# Function to preprocess CSV files using multiprocessing\n",
        "def preprocess_csv_files_multiprocessing(folder_path):\n",
        "    # Get a list of all files in the directory\n",
        "    file_list = [os.path.join(folder_path, f) for f in os.listdir(folder_path) if f.startswith(\"Tormatic\") and f.endswith(\".csv\")]\n",
        "\n",
        "    # Get the number of CPU cores\n",
        "    num_cores = cpu_count()\n",
        "\n",
        "    # Create a Pool of worker processes\n",
        "    with Pool(num_cores) as pool:\n",
        "        # Map the preprocess_csv_file function to each file in parallel\n",
        "        pool.map(preprocess_csv_file, file_list)\n",
        "\n",
        "# Preprocess all CSV files in the working directory using multiprocessing\n",
        "preprocess_csv_files_multiprocessing(working_directory)"
      ],
      "metadata": {
        "id": "wEcj6oRsjiZa"
      },
      "execution_count": null,
      "outputs": []
    },
    {
      "cell_type": "markdown",
      "source": [
        "The next step involves deleting columns that are not useful:\n",
        "- EXP_STATUS\n",
        "- ODP\n"
      ],
      "metadata": {
        "id": "D6PmtGYob_hj"
      }
    },
    {
      "cell_type": "code",
      "source": [
        "# Function to drop specified columns from a DataFrame\n",
        "def drop_columns(df):\n",
        "    columns_to_drop = ['EXP_STATUS', 'ODP']\n",
        "    return df.drop(columns=columns_to_drop, errors='ignore')\n",
        "\n",
        "# Function to process each file and drop specified columns\n",
        "def process_file(filename):\n",
        "    file_path = os.path.join(working_directory, filename)\n",
        "    try:\n",
        "        # Read the CSV file into a DataFrame\n",
        "        df = pd.read_csv(file_path, encoding='latin1')\n",
        "\n",
        "        # Drop specified columns\n",
        "        df = drop_columns(df)\n",
        "\n",
        "        # Save the modified DataFrame back to the CSV file\n",
        "        df.to_csv(file_path, index=False, encoding='latin1')\n",
        "\n",
        "        print(f\"Columns 'EXP_STATUS' and 'ODP' dropped from file '{filename}'\")\n",
        "    except Exception as e:\n",
        "        print(f\"Error processing file '{filename}': {e}\")\n",
        "\n",
        "# Get a list of all files in the directory starting with \"Tormatic\"\n",
        "file_list = [f for f in os.listdir(working_directory) if f.startswith(\"Tormatic\") and f.endswith(\".csv\")]\n",
        "\n",
        "# Create a Pool of worker processes\n",
        "with Pool() as pool:\n",
        "    # Map the process_file function to each file in the file list\n",
        "    pool.map(process_file, file_list)"
      ],
      "metadata": {
        "id": "hrBWcOabb-rd"
      },
      "execution_count": null,
      "outputs": []
    },
    {
      "cell_type": "markdown",
      "source": [
        "# Dataset merging\n",
        "The final step involves merging all the datasets info a final one"
      ],
      "metadata": {
        "id": "f0ERDH0LdpFD"
      }
    },
    {
      "cell_type": "code",
      "source": [
        "%cd \"/content/gdrive/MyDrive/Dati-TBDM/energy_bak/energy_bak\""
      ],
      "metadata": {
        "id": "h41N6-_IyNlH"
      },
      "execution_count": null,
      "outputs": []
    },
    {
      "cell_type": "code",
      "source": [
        "# Function to read a CSV file into a DataFrame\n",
        "def read_csv_to_df(file_path):\n",
        "    try:\n",
        "        return pd.read_csv(file_path, encoding='latin1')\n",
        "    except Exception as e:\n",
        "        print(f\"Error reading file '{file_path}': {e}\")\n",
        "        return None\n",
        "\n",
        "# Define the path where the merged dataset will be saved\n",
        "output_folder = '/content/gdrive/MyDrive/Dati-TBDM/refined_data'\n",
        "output_file = os.path.join(output_folder, 'produced_pieces_dataset.csv')\n",
        "\n",
        "# Get a list of all files in the directory starting with \"Tormatic\"\n",
        "file_list = [f for f in os.listdir(working_directory) if f.startswith(\"Tormatic\") and f.endswith(\".csv\")]\n",
        "\n",
        "# Create a Pool of worker processes\n",
        "with Pool() as pool:\n",
        "    # Map the read_csv_to_df function to each file in the file list\n",
        "    dfs = pool.map(read_csv_to_df, [os.path.join(working_directory, filename) for filename in file_list])\n",
        "\n",
        "# Filter out None values (indicating errors during reading)\n",
        "dfs = [df for df in dfs if df is not None]\n",
        "\n",
        "# Concatenate all DataFrames into a single DataFrame\n",
        "merged_df = pd.concat(dfs, ignore_index=True)\n",
        "\n",
        "# Save the merged DataFrame to a CSV file\n",
        "try:\n",
        "    os.makedirs(output_folder, exist_ok=True)  # Create the output folder if it doesn't exist\n",
        "    merged_df.to_csv(output_file, index=False)\n",
        "    print(f\"Merged dataset saved to '{output_file}'\")\n",
        "except Exception as e:\n",
        "    print(f\"Error saving merged dataset: {e}\")"
      ],
      "metadata": {
        "id": "5KicG1-udvPc"
      },
      "execution_count": null,
      "outputs": []
    },
    {
      "cell_type": "markdown",
      "source": [
        "# Dataset exploration"
      ],
      "metadata": {
        "id": "lpxrgBOSf-en"
      }
    },
    {
      "cell_type": "code",
      "source": [
        "%cd \"/content/gdrive/MyDrive/Dati-TBDM/refined_data\""
      ],
      "metadata": {
        "colab": {
          "base_uri": "https://localhost:8080/"
        },
        "id": "kAoz7CJYfEDS",
        "outputId": "fd2d1b4d-2914-4cc3-e1ff-826ceb93a341"
      },
      "execution_count": 22,
      "outputs": [
        {
          "output_type": "stream",
          "name": "stdout",
          "text": [
            "/content/gdrive/.shortcut-targets-by-id/1xGTanGyuk-TCLCMoGz5VNG7sUEscVC-Z/Dati-TBDM/refined_data\n"
          ]
        }
      ]
    },
    {
      "cell_type": "code",
      "source": [
        "final_df = pd.read_csv('produced_pieces_dataset.csv')"
      ],
      "metadata": {
        "id": "I4ehKGlmfLNZ"
      },
      "execution_count": 75,
      "outputs": []
    },
    {
      "cell_type": "markdown",
      "source": [
        "Checking if the values of the various columns have mixed values"
      ],
      "metadata": {
        "id": "2VrFidQQUUdy"
      }
    },
    {
      "cell_type": "code",
      "source": [
        "final_df.info()"
      ],
      "metadata": {
        "colab": {
          "base_uri": "https://localhost:8080/"
        },
        "id": "U3tk_lJLfWZb",
        "outputId": "b1fb4323-6805-437f-8f71-274d5210551f"
      },
      "execution_count": 43,
      "outputs": [
        {
          "output_type": "stream",
          "name": "stdout",
          "text": [
            "<class 'pandas.core.frame.DataFrame'>\n",
            "Int64Index: 7552500 entries, 3 to 7566030\n",
            "Data columns (total 6 columns):\n",
            " #   Column             Dtype  \n",
            "---  ------             -----  \n",
            " 0   ID                 object \n",
            " 1   COD_MACC           object \n",
            " 2   COD_ART            object \n",
            " 3   TIMESTAMP_INIZIO   object \n",
            " 4   TIMESTAMP_FINE     object \n",
            " 5   NUMERO_PEZZI_PROD  float64\n",
            "dtypes: float64(1), object(5)\n",
            "memory usage: 403.3+ MB\n"
          ]
        }
      ]
    },
    {
      "cell_type": "code",
      "source": [
        "final_df.describe()"
      ],
      "metadata": {
        "colab": {
          "base_uri": "https://localhost:8080/",
          "height": 175
        },
        "id": "bfJva7nigDvz",
        "outputId": "5f994348-185e-4cc0-eea8-09fa0dc69589"
      },
      "execution_count": 11,
      "outputs": [
        {
          "output_type": "execute_result",
          "data": {
            "text/plain": [
              "                          ID COD_MACC                  COD_ART  \\\n",
              "count                7566032  7565739                  7565333   \n",
              "unique               7480285      281                     1632   \n",
              "top     --------------------     0203  0001700AVPWA04FDORFS04Y   \n",
              "freq                     294   250282                   182235   \n",
              "\n",
              "       TIMESTAMP_INIZIO          TIMESTAMP_FINE NUMERO_PEZZI_PROD  \n",
              "count           7565738                 7565738           7565738  \n",
              "unique           398676                  398145             18127  \n",
              "top             5X10X20  2022-06-1609:00:00.000               0.0  \n",
              "freq              12488                     583           5778044  "
            ],
            "text/html": [
              "\n",
              "  <div id=\"df-17f714d7-8820-421a-a335-3f3cb36cd356\" class=\"colab-df-container\">\n",
              "    <div>\n",
              "<style scoped>\n",
              "    .dataframe tbody tr th:only-of-type {\n",
              "        vertical-align: middle;\n",
              "    }\n",
              "\n",
              "    .dataframe tbody tr th {\n",
              "        vertical-align: top;\n",
              "    }\n",
              "\n",
              "    .dataframe thead th {\n",
              "        text-align: right;\n",
              "    }\n",
              "</style>\n",
              "<table border=\"1\" class=\"dataframe\">\n",
              "  <thead>\n",
              "    <tr style=\"text-align: right;\">\n",
              "      <th></th>\n",
              "      <th>ID</th>\n",
              "      <th>COD_MACC</th>\n",
              "      <th>COD_ART</th>\n",
              "      <th>TIMESTAMP_INIZIO</th>\n",
              "      <th>TIMESTAMP_FINE</th>\n",
              "      <th>NUMERO_PEZZI_PROD</th>\n",
              "    </tr>\n",
              "  </thead>\n",
              "  <tbody>\n",
              "    <tr>\n",
              "      <th>count</th>\n",
              "      <td>7566032</td>\n",
              "      <td>7565739</td>\n",
              "      <td>7565333</td>\n",
              "      <td>7565738</td>\n",
              "      <td>7565738</td>\n",
              "      <td>7565738</td>\n",
              "    </tr>\n",
              "    <tr>\n",
              "      <th>unique</th>\n",
              "      <td>7480285</td>\n",
              "      <td>281</td>\n",
              "      <td>1632</td>\n",
              "      <td>398676</td>\n",
              "      <td>398145</td>\n",
              "      <td>18127</td>\n",
              "    </tr>\n",
              "    <tr>\n",
              "      <th>top</th>\n",
              "      <td>--------------------</td>\n",
              "      <td>0203</td>\n",
              "      <td>0001700AVPWA04FDORFS04Y</td>\n",
              "      <td>5X10X20</td>\n",
              "      <td>2022-06-1609:00:00.000</td>\n",
              "      <td>0.0</td>\n",
              "    </tr>\n",
              "    <tr>\n",
              "      <th>freq</th>\n",
              "      <td>294</td>\n",
              "      <td>250282</td>\n",
              "      <td>182235</td>\n",
              "      <td>12488</td>\n",
              "      <td>583</td>\n",
              "      <td>5778044</td>\n",
              "    </tr>\n",
              "  </tbody>\n",
              "</table>\n",
              "</div>\n",
              "    <div class=\"colab-df-buttons\">\n",
              "\n",
              "  <div class=\"colab-df-container\">\n",
              "    <button class=\"colab-df-convert\" onclick=\"convertToInteractive('df-17f714d7-8820-421a-a335-3f3cb36cd356')\"\n",
              "            title=\"Convert this dataframe to an interactive table.\"\n",
              "            style=\"display:none;\">\n",
              "\n",
              "  <svg xmlns=\"http://www.w3.org/2000/svg\" height=\"24px\" viewBox=\"0 -960 960 960\">\n",
              "    <path d=\"M120-120v-720h720v720H120Zm60-500h600v-160H180v160Zm220 220h160v-160H400v160Zm0 220h160v-160H400v160ZM180-400h160v-160H180v160Zm440 0h160v-160H620v160ZM180-180h160v-160H180v160Zm440 0h160v-160H620v160Z\"/>\n",
              "  </svg>\n",
              "    </button>\n",
              "\n",
              "  <style>\n",
              "    .colab-df-container {\n",
              "      display:flex;\n",
              "      gap: 12px;\n",
              "    }\n",
              "\n",
              "    .colab-df-convert {\n",
              "      background-color: #E8F0FE;\n",
              "      border: none;\n",
              "      border-radius: 50%;\n",
              "      cursor: pointer;\n",
              "      display: none;\n",
              "      fill: #1967D2;\n",
              "      height: 32px;\n",
              "      padding: 0 0 0 0;\n",
              "      width: 32px;\n",
              "    }\n",
              "\n",
              "    .colab-df-convert:hover {\n",
              "      background-color: #E2EBFA;\n",
              "      box-shadow: 0px 1px 2px rgba(60, 64, 67, 0.3), 0px 1px 3px 1px rgba(60, 64, 67, 0.15);\n",
              "      fill: #174EA6;\n",
              "    }\n",
              "\n",
              "    .colab-df-buttons div {\n",
              "      margin-bottom: 4px;\n",
              "    }\n",
              "\n",
              "    [theme=dark] .colab-df-convert {\n",
              "      background-color: #3B4455;\n",
              "      fill: #D2E3FC;\n",
              "    }\n",
              "\n",
              "    [theme=dark] .colab-df-convert:hover {\n",
              "      background-color: #434B5C;\n",
              "      box-shadow: 0px 1px 3px 1px rgba(0, 0, 0, 0.15);\n",
              "      filter: drop-shadow(0px 1px 2px rgba(0, 0, 0, 0.3));\n",
              "      fill: #FFFFFF;\n",
              "    }\n",
              "  </style>\n",
              "\n",
              "    <script>\n",
              "      const buttonEl =\n",
              "        document.querySelector('#df-17f714d7-8820-421a-a335-3f3cb36cd356 button.colab-df-convert');\n",
              "      buttonEl.style.display =\n",
              "        google.colab.kernel.accessAllowed ? 'block' : 'none';\n",
              "\n",
              "      async function convertToInteractive(key) {\n",
              "        const element = document.querySelector('#df-17f714d7-8820-421a-a335-3f3cb36cd356');\n",
              "        const dataTable =\n",
              "          await google.colab.kernel.invokeFunction('convertToInteractive',\n",
              "                                                    [key], {});\n",
              "        if (!dataTable) return;\n",
              "\n",
              "        const docLinkHtml = 'Like what you see? Visit the ' +\n",
              "          '<a target=\"_blank\" href=https://colab.research.google.com/notebooks/data_table.ipynb>data table notebook</a>'\n",
              "          + ' to learn more about interactive tables.';\n",
              "        element.innerHTML = '';\n",
              "        dataTable['output_type'] = 'display_data';\n",
              "        await google.colab.output.renderOutput(dataTable, element);\n",
              "        const docLink = document.createElement('div');\n",
              "        docLink.innerHTML = docLinkHtml;\n",
              "        element.appendChild(docLink);\n",
              "      }\n",
              "    </script>\n",
              "  </div>\n",
              "\n",
              "\n",
              "<div id=\"df-32ed0196-489b-4c35-be7c-a0ff8994b631\">\n",
              "  <button class=\"colab-df-quickchart\" onclick=\"quickchart('df-32ed0196-489b-4c35-be7c-a0ff8994b631')\"\n",
              "            title=\"Suggest charts\"\n",
              "            style=\"display:none;\">\n",
              "\n",
              "<svg xmlns=\"http://www.w3.org/2000/svg\" height=\"24px\"viewBox=\"0 0 24 24\"\n",
              "     width=\"24px\">\n",
              "    <g>\n",
              "        <path d=\"M19 3H5c-1.1 0-2 .9-2 2v14c0 1.1.9 2 2 2h14c1.1 0 2-.9 2-2V5c0-1.1-.9-2-2-2zM9 17H7v-7h2v7zm4 0h-2V7h2v10zm4 0h-2v-4h2v4z\"/>\n",
              "    </g>\n",
              "</svg>\n",
              "  </button>\n",
              "\n",
              "<style>\n",
              "  .colab-df-quickchart {\n",
              "      --bg-color: #E8F0FE;\n",
              "      --fill-color: #1967D2;\n",
              "      --hover-bg-color: #E2EBFA;\n",
              "      --hover-fill-color: #174EA6;\n",
              "      --disabled-fill-color: #AAA;\n",
              "      --disabled-bg-color: #DDD;\n",
              "  }\n",
              "\n",
              "  [theme=dark] .colab-df-quickchart {\n",
              "      --bg-color: #3B4455;\n",
              "      --fill-color: #D2E3FC;\n",
              "      --hover-bg-color: #434B5C;\n",
              "      --hover-fill-color: #FFFFFF;\n",
              "      --disabled-bg-color: #3B4455;\n",
              "      --disabled-fill-color: #666;\n",
              "  }\n",
              "\n",
              "  .colab-df-quickchart {\n",
              "    background-color: var(--bg-color);\n",
              "    border: none;\n",
              "    border-radius: 50%;\n",
              "    cursor: pointer;\n",
              "    display: none;\n",
              "    fill: var(--fill-color);\n",
              "    height: 32px;\n",
              "    padding: 0;\n",
              "    width: 32px;\n",
              "  }\n",
              "\n",
              "  .colab-df-quickchart:hover {\n",
              "    background-color: var(--hover-bg-color);\n",
              "    box-shadow: 0 1px 2px rgba(60, 64, 67, 0.3), 0 1px 3px 1px rgba(60, 64, 67, 0.15);\n",
              "    fill: var(--button-hover-fill-color);\n",
              "  }\n",
              "\n",
              "  .colab-df-quickchart-complete:disabled,\n",
              "  .colab-df-quickchart-complete:disabled:hover {\n",
              "    background-color: var(--disabled-bg-color);\n",
              "    fill: var(--disabled-fill-color);\n",
              "    box-shadow: none;\n",
              "  }\n",
              "\n",
              "  .colab-df-spinner {\n",
              "    border: 2px solid var(--fill-color);\n",
              "    border-color: transparent;\n",
              "    border-bottom-color: var(--fill-color);\n",
              "    animation:\n",
              "      spin 1s steps(1) infinite;\n",
              "  }\n",
              "\n",
              "  @keyframes spin {\n",
              "    0% {\n",
              "      border-color: transparent;\n",
              "      border-bottom-color: var(--fill-color);\n",
              "      border-left-color: var(--fill-color);\n",
              "    }\n",
              "    20% {\n",
              "      border-color: transparent;\n",
              "      border-left-color: var(--fill-color);\n",
              "      border-top-color: var(--fill-color);\n",
              "    }\n",
              "    30% {\n",
              "      border-color: transparent;\n",
              "      border-left-color: var(--fill-color);\n",
              "      border-top-color: var(--fill-color);\n",
              "      border-right-color: var(--fill-color);\n",
              "    }\n",
              "    40% {\n",
              "      border-color: transparent;\n",
              "      border-right-color: var(--fill-color);\n",
              "      border-top-color: var(--fill-color);\n",
              "    }\n",
              "    60% {\n",
              "      border-color: transparent;\n",
              "      border-right-color: var(--fill-color);\n",
              "    }\n",
              "    80% {\n",
              "      border-color: transparent;\n",
              "      border-right-color: var(--fill-color);\n",
              "      border-bottom-color: var(--fill-color);\n",
              "    }\n",
              "    90% {\n",
              "      border-color: transparent;\n",
              "      border-bottom-color: var(--fill-color);\n",
              "    }\n",
              "  }\n",
              "</style>\n",
              "\n",
              "  <script>\n",
              "    async function quickchart(key) {\n",
              "      const quickchartButtonEl =\n",
              "        document.querySelector('#' + key + ' button');\n",
              "      quickchartButtonEl.disabled = true;  // To prevent multiple clicks.\n",
              "      quickchartButtonEl.classList.add('colab-df-spinner');\n",
              "      try {\n",
              "        const charts = await google.colab.kernel.invokeFunction(\n",
              "            'suggestCharts', [key], {});\n",
              "      } catch (error) {\n",
              "        console.error('Error during call to suggestCharts:', error);\n",
              "      }\n",
              "      quickchartButtonEl.classList.remove('colab-df-spinner');\n",
              "      quickchartButtonEl.classList.add('colab-df-quickchart-complete');\n",
              "    }\n",
              "    (() => {\n",
              "      let quickchartButtonEl =\n",
              "        document.querySelector('#df-32ed0196-489b-4c35-be7c-a0ff8994b631 button');\n",
              "      quickchartButtonEl.style.display =\n",
              "        google.colab.kernel.accessAllowed ? 'block' : 'none';\n",
              "    })();\n",
              "  </script>\n",
              "</div>\n",
              "    </div>\n",
              "  </div>\n"
            ]
          },
          "metadata": {},
          "execution_count": 11
        }
      ]
    },
    {
      "cell_type": "code",
      "source": [
        "final_df.head()"
      ],
      "metadata": {
        "colab": {
          "base_uri": "https://localhost:8080/",
          "height": 206
        },
        "id": "kcpbVeNux4i4",
        "outputId": "28ad1a31-eaf2-441d-8f5f-cf0dd55a8c1e"
      },
      "execution_count": 10,
      "outputs": [
        {
          "output_type": "execute_result",
          "data": {
            "text/plain": [
              "                     ID         COD_MACC                         COD_ART  \\\n",
              "0  --------------------  ---------------  ------------------------------   \n",
              "1                101481             0101        1120400AVPTS.98325511-03   \n",
              "2                101482             0101        1120400AVPTS.98325511-03   \n",
              "3                101483             0101        1120400AVPTS.98325511-03   \n",
              "4                101484             0101        1120400AVPTS.98325511-03   \n",
              "\n",
              "          TIMESTAMP_INIZIO           TIMESTAMP_FINE         NUMERO_PEZZI_PROD  \n",
              "0  -----------------------  -----------------------  ------------------------  \n",
              "1   2022-05-3006:06:00.000   2022-05-3006:07:00.000                       0.0  \n",
              "2   2022-05-3006:07:00.000   2022-05-3006:09:00.000                       0.0  \n",
              "3   2022-05-3006:09:00.000   2022-05-3006:10:00.000                       0.0  \n",
              "4   2022-05-3006:10:00.000   2022-05-3006:12:00.000                       0.0  "
            ],
            "text/html": [
              "\n",
              "  <div id=\"df-3d5b86df-5d29-4c3e-a71d-aefcac8b15e5\" class=\"colab-df-container\">\n",
              "    <div>\n",
              "<style scoped>\n",
              "    .dataframe tbody tr th:only-of-type {\n",
              "        vertical-align: middle;\n",
              "    }\n",
              "\n",
              "    .dataframe tbody tr th {\n",
              "        vertical-align: top;\n",
              "    }\n",
              "\n",
              "    .dataframe thead th {\n",
              "        text-align: right;\n",
              "    }\n",
              "</style>\n",
              "<table border=\"1\" class=\"dataframe\">\n",
              "  <thead>\n",
              "    <tr style=\"text-align: right;\">\n",
              "      <th></th>\n",
              "      <th>ID</th>\n",
              "      <th>COD_MACC</th>\n",
              "      <th>COD_ART</th>\n",
              "      <th>TIMESTAMP_INIZIO</th>\n",
              "      <th>TIMESTAMP_FINE</th>\n",
              "      <th>NUMERO_PEZZI_PROD</th>\n",
              "    </tr>\n",
              "  </thead>\n",
              "  <tbody>\n",
              "    <tr>\n",
              "      <th>0</th>\n",
              "      <td>--------------------</td>\n",
              "      <td>---------------</td>\n",
              "      <td>------------------------------</td>\n",
              "      <td>-----------------------</td>\n",
              "      <td>-----------------------</td>\n",
              "      <td>------------------------</td>\n",
              "    </tr>\n",
              "    <tr>\n",
              "      <th>1</th>\n",
              "      <td>101481</td>\n",
              "      <td>0101</td>\n",
              "      <td>1120400AVPTS.98325511-03</td>\n",
              "      <td>2022-05-3006:06:00.000</td>\n",
              "      <td>2022-05-3006:07:00.000</td>\n",
              "      <td>0.0</td>\n",
              "    </tr>\n",
              "    <tr>\n",
              "      <th>2</th>\n",
              "      <td>101482</td>\n",
              "      <td>0101</td>\n",
              "      <td>1120400AVPTS.98325511-03</td>\n",
              "      <td>2022-05-3006:07:00.000</td>\n",
              "      <td>2022-05-3006:09:00.000</td>\n",
              "      <td>0.0</td>\n",
              "    </tr>\n",
              "    <tr>\n",
              "      <th>3</th>\n",
              "      <td>101483</td>\n",
              "      <td>0101</td>\n",
              "      <td>1120400AVPTS.98325511-03</td>\n",
              "      <td>2022-05-3006:09:00.000</td>\n",
              "      <td>2022-05-3006:10:00.000</td>\n",
              "      <td>0.0</td>\n",
              "    </tr>\n",
              "    <tr>\n",
              "      <th>4</th>\n",
              "      <td>101484</td>\n",
              "      <td>0101</td>\n",
              "      <td>1120400AVPTS.98325511-03</td>\n",
              "      <td>2022-05-3006:10:00.000</td>\n",
              "      <td>2022-05-3006:12:00.000</td>\n",
              "      <td>0.0</td>\n",
              "    </tr>\n",
              "  </tbody>\n",
              "</table>\n",
              "</div>\n",
              "    <div class=\"colab-df-buttons\">\n",
              "\n",
              "  <div class=\"colab-df-container\">\n",
              "    <button class=\"colab-df-convert\" onclick=\"convertToInteractive('df-3d5b86df-5d29-4c3e-a71d-aefcac8b15e5')\"\n",
              "            title=\"Convert this dataframe to an interactive table.\"\n",
              "            style=\"display:none;\">\n",
              "\n",
              "  <svg xmlns=\"http://www.w3.org/2000/svg\" height=\"24px\" viewBox=\"0 -960 960 960\">\n",
              "    <path d=\"M120-120v-720h720v720H120Zm60-500h600v-160H180v160Zm220 220h160v-160H400v160Zm0 220h160v-160H400v160ZM180-400h160v-160H180v160Zm440 0h160v-160H620v160ZM180-180h160v-160H180v160Zm440 0h160v-160H620v160Z\"/>\n",
              "  </svg>\n",
              "    </button>\n",
              "\n",
              "  <style>\n",
              "    .colab-df-container {\n",
              "      display:flex;\n",
              "      gap: 12px;\n",
              "    }\n",
              "\n",
              "    .colab-df-convert {\n",
              "      background-color: #E8F0FE;\n",
              "      border: none;\n",
              "      border-radius: 50%;\n",
              "      cursor: pointer;\n",
              "      display: none;\n",
              "      fill: #1967D2;\n",
              "      height: 32px;\n",
              "      padding: 0 0 0 0;\n",
              "      width: 32px;\n",
              "    }\n",
              "\n",
              "    .colab-df-convert:hover {\n",
              "      background-color: #E2EBFA;\n",
              "      box-shadow: 0px 1px 2px rgba(60, 64, 67, 0.3), 0px 1px 3px 1px rgba(60, 64, 67, 0.15);\n",
              "      fill: #174EA6;\n",
              "    }\n",
              "\n",
              "    .colab-df-buttons div {\n",
              "      margin-bottom: 4px;\n",
              "    }\n",
              "\n",
              "    [theme=dark] .colab-df-convert {\n",
              "      background-color: #3B4455;\n",
              "      fill: #D2E3FC;\n",
              "    }\n",
              "\n",
              "    [theme=dark] .colab-df-convert:hover {\n",
              "      background-color: #434B5C;\n",
              "      box-shadow: 0px 1px 3px 1px rgba(0, 0, 0, 0.15);\n",
              "      filter: drop-shadow(0px 1px 2px rgba(0, 0, 0, 0.3));\n",
              "      fill: #FFFFFF;\n",
              "    }\n",
              "  </style>\n",
              "\n",
              "    <script>\n",
              "      const buttonEl =\n",
              "        document.querySelector('#df-3d5b86df-5d29-4c3e-a71d-aefcac8b15e5 button.colab-df-convert');\n",
              "      buttonEl.style.display =\n",
              "        google.colab.kernel.accessAllowed ? 'block' : 'none';\n",
              "\n",
              "      async function convertToInteractive(key) {\n",
              "        const element = document.querySelector('#df-3d5b86df-5d29-4c3e-a71d-aefcac8b15e5');\n",
              "        const dataTable =\n",
              "          await google.colab.kernel.invokeFunction('convertToInteractive',\n",
              "                                                    [key], {});\n",
              "        if (!dataTable) return;\n",
              "\n",
              "        const docLinkHtml = 'Like what you see? Visit the ' +\n",
              "          '<a target=\"_blank\" href=https://colab.research.google.com/notebooks/data_table.ipynb>data table notebook</a>'\n",
              "          + ' to learn more about interactive tables.';\n",
              "        element.innerHTML = '';\n",
              "        dataTable['output_type'] = 'display_data';\n",
              "        await google.colab.output.renderOutput(dataTable, element);\n",
              "        const docLink = document.createElement('div');\n",
              "        docLink.innerHTML = docLinkHtml;\n",
              "        element.appendChild(docLink);\n",
              "      }\n",
              "    </script>\n",
              "  </div>\n",
              "\n",
              "\n",
              "<div id=\"df-b2e11d1d-f814-432c-abaf-93bb358a6ecb\">\n",
              "  <button class=\"colab-df-quickchart\" onclick=\"quickchart('df-b2e11d1d-f814-432c-abaf-93bb358a6ecb')\"\n",
              "            title=\"Suggest charts\"\n",
              "            style=\"display:none;\">\n",
              "\n",
              "<svg xmlns=\"http://www.w3.org/2000/svg\" height=\"24px\"viewBox=\"0 0 24 24\"\n",
              "     width=\"24px\">\n",
              "    <g>\n",
              "        <path d=\"M19 3H5c-1.1 0-2 .9-2 2v14c0 1.1.9 2 2 2h14c1.1 0 2-.9 2-2V5c0-1.1-.9-2-2-2zM9 17H7v-7h2v7zm4 0h-2V7h2v10zm4 0h-2v-4h2v4z\"/>\n",
              "    </g>\n",
              "</svg>\n",
              "  </button>\n",
              "\n",
              "<style>\n",
              "  .colab-df-quickchart {\n",
              "      --bg-color: #E8F0FE;\n",
              "      --fill-color: #1967D2;\n",
              "      --hover-bg-color: #E2EBFA;\n",
              "      --hover-fill-color: #174EA6;\n",
              "      --disabled-fill-color: #AAA;\n",
              "      --disabled-bg-color: #DDD;\n",
              "  }\n",
              "\n",
              "  [theme=dark] .colab-df-quickchart {\n",
              "      --bg-color: #3B4455;\n",
              "      --fill-color: #D2E3FC;\n",
              "      --hover-bg-color: #434B5C;\n",
              "      --hover-fill-color: #FFFFFF;\n",
              "      --disabled-bg-color: #3B4455;\n",
              "      --disabled-fill-color: #666;\n",
              "  }\n",
              "\n",
              "  .colab-df-quickchart {\n",
              "    background-color: var(--bg-color);\n",
              "    border: none;\n",
              "    border-radius: 50%;\n",
              "    cursor: pointer;\n",
              "    display: none;\n",
              "    fill: var(--fill-color);\n",
              "    height: 32px;\n",
              "    padding: 0;\n",
              "    width: 32px;\n",
              "  }\n",
              "\n",
              "  .colab-df-quickchart:hover {\n",
              "    background-color: var(--hover-bg-color);\n",
              "    box-shadow: 0 1px 2px rgba(60, 64, 67, 0.3), 0 1px 3px 1px rgba(60, 64, 67, 0.15);\n",
              "    fill: var(--button-hover-fill-color);\n",
              "  }\n",
              "\n",
              "  .colab-df-quickchart-complete:disabled,\n",
              "  .colab-df-quickchart-complete:disabled:hover {\n",
              "    background-color: var(--disabled-bg-color);\n",
              "    fill: var(--disabled-fill-color);\n",
              "    box-shadow: none;\n",
              "  }\n",
              "\n",
              "  .colab-df-spinner {\n",
              "    border: 2px solid var(--fill-color);\n",
              "    border-color: transparent;\n",
              "    border-bottom-color: var(--fill-color);\n",
              "    animation:\n",
              "      spin 1s steps(1) infinite;\n",
              "  }\n",
              "\n",
              "  @keyframes spin {\n",
              "    0% {\n",
              "      border-color: transparent;\n",
              "      border-bottom-color: var(--fill-color);\n",
              "      border-left-color: var(--fill-color);\n",
              "    }\n",
              "    20% {\n",
              "      border-color: transparent;\n",
              "      border-left-color: var(--fill-color);\n",
              "      border-top-color: var(--fill-color);\n",
              "    }\n",
              "    30% {\n",
              "      border-color: transparent;\n",
              "      border-left-color: var(--fill-color);\n",
              "      border-top-color: var(--fill-color);\n",
              "      border-right-color: var(--fill-color);\n",
              "    }\n",
              "    40% {\n",
              "      border-color: transparent;\n",
              "      border-right-color: var(--fill-color);\n",
              "      border-top-color: var(--fill-color);\n",
              "    }\n",
              "    60% {\n",
              "      border-color: transparent;\n",
              "      border-right-color: var(--fill-color);\n",
              "    }\n",
              "    80% {\n",
              "      border-color: transparent;\n",
              "      border-right-color: var(--fill-color);\n",
              "      border-bottom-color: var(--fill-color);\n",
              "    }\n",
              "    90% {\n",
              "      border-color: transparent;\n",
              "      border-bottom-color: var(--fill-color);\n",
              "    }\n",
              "  }\n",
              "</style>\n",
              "\n",
              "  <script>\n",
              "    async function quickchart(key) {\n",
              "      const quickchartButtonEl =\n",
              "        document.querySelector('#' + key + ' button');\n",
              "      quickchartButtonEl.disabled = true;  // To prevent multiple clicks.\n",
              "      quickchartButtonEl.classList.add('colab-df-spinner');\n",
              "      try {\n",
              "        const charts = await google.colab.kernel.invokeFunction(\n",
              "            'suggestCharts', [key], {});\n",
              "      } catch (error) {\n",
              "        console.error('Error during call to suggestCharts:', error);\n",
              "      }\n",
              "      quickchartButtonEl.classList.remove('colab-df-spinner');\n",
              "      quickchartButtonEl.classList.add('colab-df-quickchart-complete');\n",
              "    }\n",
              "    (() => {\n",
              "      let quickchartButtonEl =\n",
              "        document.querySelector('#df-b2e11d1d-f814-432c-abaf-93bb358a6ecb button');\n",
              "      quickchartButtonEl.style.display =\n",
              "        google.colab.kernel.accessAllowed ? 'block' : 'none';\n",
              "    })();\n",
              "  </script>\n",
              "</div>\n",
              "    </div>\n",
              "  </div>\n"
            ]
          },
          "metadata": {},
          "execution_count": 10
        }
      ]
    },
    {
      "cell_type": "markdown",
      "source": [
        "The below columns have mixed data which has to be deleted, like dates where integers are expected"
      ],
      "metadata": {
        "id": "VLcbM96LUgly"
      }
    },
    {
      "cell_type": "code",
      "source": [
        "for col in ['ID', 'COD_MACC', 'NUMERO_PEZZI_PROD']:\n",
        "    print(f\"Unique values in '{col}':\")\n",
        "    print(final_df[col].value_counts())\n",
        "    print()"
      ],
      "metadata": {
        "colab": {
          "base_uri": "https://localhost:8080/"
        },
        "id": "91bD2w9vf7JP",
        "outputId": "da84db6f-0f2d-4328-a77a-1b262b5fef37"
      },
      "execution_count": 74,
      "outputs": [
        {
          "output_type": "stream",
          "name": "stdout",
          "text": [
            "Unique values in 'ID':\n",
            "51799       2\n",
            "74998       2\n",
            "74996       2\n",
            "74995       2\n",
            "74994       2\n",
            "           ..\n",
            "3591894     1\n",
            "3591893     1\n",
            "3591892     1\n",
            "3591891     1\n",
            "10837113    1\n",
            "Name: ID, Length: 7467151, dtype: int64\n",
            "\n",
            "Unique values in 'COD_MACC':\n",
            "203.0     280373\n",
            "202.0     277259\n",
            "210.0     263987\n",
            "209.0     260936\n",
            "109.0     254664\n",
            "204.0     246098\n",
            "101.0     232726\n",
            "207.0     232454\n",
            "208.0     228778\n",
            "205.0     219338\n",
            "201.0     218861\n",
            "214.0     191130\n",
            "104.0     182946\n",
            "103.0     182088\n",
            "211.0     177952\n",
            "105.0     173145\n",
            "213.0     170510\n",
            "106.0     166584\n",
            "107.0     159555\n",
            "212.0     154146\n",
            "602.0     117578\n",
            "604.0     115953\n",
            "609.0     103778\n",
            "318.0     103751\n",
            "601.0     101179\n",
            "102.0     100010\n",
            "603.0      96043\n",
            "319.0      95975\n",
            "110.0      94415\n",
            "613.0      94098\n",
            "614.0      91168\n",
            "607.0      90263\n",
            "605.0      89997\n",
            "610.0      87005\n",
            "606.0      85301\n",
            "303.0      84309\n",
            "313.0      82267\n",
            "302.0      81964\n",
            "111.0      79629\n",
            "616.0      79602\n",
            "515.0      78049\n",
            "301.0      77451\n",
            "311.0      76979\n",
            "304.0      75271\n",
            "215.0      75070\n",
            "312.0      74899\n",
            "309.0      71362\n",
            "108.0      71251\n",
            "310.0      69041\n",
            "306.0      68948\n",
            "611.0      65609\n",
            "307.0      62965\n",
            "317.0      59350\n",
            "314.0      56381\n",
            "612.0      53703\n",
            "315.0      52495\n",
            "618.0      48882\n",
            "308.0      46895\n",
            "316.0      41924\n",
            "320.0      40940\n",
            "608.0      40666\n",
            "615.0      34588\n",
            "305.0      31519\n",
            "321.0      15604\n",
            "702.0       4213\n",
            "701.0       3712\n",
            "322.0       3688\n",
            "817.0       2423\n",
            "815.0        718\n",
            "1001.0        48\n",
            "501.0         16\n",
            "816.0         14\n",
            "1002.0         5\n",
            "1005.0         4\n",
            "1003.0         2\n",
            "Name: COD_MACC, dtype: int64\n",
            "\n",
            "Unique values in 'NUMERO_PEZZI_PROD':\n",
            "0.0        5808914\n",
            "1.0         237917\n",
            "2.0          98669\n",
            "4.0          67269\n",
            "3.0          66719\n",
            "            ...   \n",
            "1968.0           1\n",
            "5059.0           1\n",
            "9783.0           1\n",
            "25523.0          1\n",
            "4217.0           1\n",
            "Name: NUMERO_PEZZI_PROD, Length: 5245, dtype: int64\n",
            "\n"
          ]
        }
      ]
    },
    {
      "cell_type": "markdown",
      "source": [
        "# Removing data from the number of pieces created that is in date format"
      ],
      "metadata": {
        "id": "GpFu_zpYiXIh"
      }
    },
    {
      "cell_type": "code",
      "source": [
        "# Convert all values in the column to strings\n",
        "final_df['NUMERO_PEZZI_PROD'] = final_df['NUMERO_PEZZI_PROD'].astype(str)\n",
        "\n",
        "# Filter out rows with strings longer than 10 characters or length 0\n",
        "filtered_df = final_df[(final_df['NUMERO_PEZZI_PROD'].str.len() <= 10) & (final_df['NUMERO_PEZZI_PROD'].str.len() > 0)]\n",
        "\n",
        "# Print the number of rows removed\n",
        "print(\"Number of rows removed:\", len(final_df) - len(filtered_df))"
      ],
      "metadata": {
        "id": "lmJHE3uDwNcP"
      },
      "execution_count": null,
      "outputs": []
    },
    {
      "cell_type": "code",
      "source": [
        "filtered_df.to_csv(\"produced_pieces_dataset.csv\", index=False)"
      ],
      "metadata": {
        "id": "ep2eMZOAihGQ"
      },
      "execution_count": 60,
      "outputs": []
    },
    {
      "cell_type": "markdown",
      "source": [
        "# Removing text from the id column and making it universal"
      ],
      "metadata": {
        "id": "nkhU4bNcixzC"
      }
    },
    {
      "cell_type": "code",
      "source": [
        "final_df = pd.read_csv('produced_pieces_dataset.csv')"
      ],
      "metadata": {
        "id": "ZAHL-0Ivi-Um"
      },
      "execution_count": 61,
      "outputs": []
    },
    {
      "cell_type": "code",
      "source": [
        "for col in ['ID']:\n",
        "    print(f\"Unique values in '{col}':\")\n",
        "    print(final_df[col].value_counts())\n",
        "    print()"
      ],
      "metadata": {
        "id": "rv7C_my6dLOs"
      },
      "execution_count": null,
      "outputs": []
    },
    {
      "cell_type": "markdown",
      "source": [
        "Check if there are strings inside"
      ],
      "metadata": {
        "id": "O_0Q_85JlyKB"
      }
    },
    {
      "cell_type": "code",
      "source": [
        "# Attempt to convert the values in the 'ID' column to numeric (integer)\n",
        "try:\n",
        "    pd.to_numeric(final_df['ID'], errors='raise', downcast='integer')\n",
        "    print(\"The 'ID' column contains only integer values.\")\n",
        "except ValueError:\n",
        "    print(\"The 'ID' column contains non-integer values.\")"
      ],
      "metadata": {
        "colab": {
          "base_uri": "https://localhost:8080/"
        },
        "id": "EoD9PWCdjQN4",
        "outputId": "1149e571-6f0a-4a50-870d-134f22389435"
      },
      "execution_count": 76,
      "outputs": [
        {
          "output_type": "stream",
          "name": "stdout",
          "text": [
            "The 'ID' column contains only integer values.\n"
          ]
        }
      ]
    },
    {
      "cell_type": "markdown",
      "source": [
        "Make all the ids unique"
      ],
      "metadata": {
        "id": "va2WWekrl1Bj"
      }
    },
    {
      "cell_type": "code",
      "source": [
        "# Reset the index to ensure the DataFrame is properly indexed\n",
        "final_df.reset_index(drop=True, inplace=True)\n",
        "\n",
        "# Assign incremental IDs starting from 1\n",
        "final_df['ID'] = final_df.reset_index().index + 1"
      ],
      "metadata": {
        "id": "-IxCFyfdlwqc"
      },
      "execution_count": 77,
      "outputs": []
    },
    {
      "cell_type": "markdown",
      "source": [
        "Check if there are duplicates"
      ],
      "metadata": {
        "id": "SY4YO9z8mNvQ"
      }
    },
    {
      "cell_type": "code",
      "source": [
        "# Check for duplicate IDs\n",
        "duplicates = final_df['ID'].duplicated().any()\n",
        "\n",
        "# Print the result\n",
        "if duplicates:\n",
        "    print(\"Duplicate IDs found!\")\n",
        "else:\n",
        "    print(\"All IDs are unique.\")"
      ],
      "metadata": {
        "colab": {
          "base_uri": "https://localhost:8080/"
        },
        "id": "JRizyB54mI3K",
        "outputId": "6acb2068-79bb-4194-c951-a9172940e412"
      },
      "execution_count": 78,
      "outputs": [
        {
          "output_type": "stream",
          "name": "stdout",
          "text": [
            "All IDs are unique.\n"
          ]
        }
      ]
    },
    {
      "cell_type": "markdown",
      "source": [
        "Save the dataset"
      ],
      "metadata": {
        "id": "3DHWdnppmQ39"
      }
    },
    {
      "cell_type": "code",
      "source": [
        "final_df.to_csv(\"produced_pieces_dataset.csv\", index=False)"
      ],
      "metadata": {
        "id": "qECLh_bumQg3"
      },
      "execution_count": 80,
      "outputs": []
    },
    {
      "cell_type": "markdown",
      "source": [
        "#Final dataset analysis"
      ],
      "metadata": {
        "id": "bT_1ppfsmaLE"
      }
    },
    {
      "cell_type": "code",
      "source": [
        "final_df = pd.read_csv('produced_pieces_dataset.csv')"
      ],
      "metadata": {
        "id": "FBp2i1TNmp1d"
      },
      "execution_count": 81,
      "outputs": []
    },
    {
      "cell_type": "markdown",
      "source": [
        "Check if there are empty values and deleting them if that is the case"
      ],
      "metadata": {
        "id": "tUE1vn9XnWw7"
      }
    },
    {
      "cell_type": "code",
      "source": [
        "# Check for missing values in any row\n",
        "missing_values = final_df.isnull().any(axis=1).any()\n",
        "\n",
        "if missing_values:\n",
        "    print(\"Dataset has missing values in some rows.\")\n",
        "else:\n",
        "    print(\"Dataset has no missing values in any row.\")"
      ],
      "metadata": {
        "colab": {
          "base_uri": "https://localhost:8080/"
        },
        "id": "-UBgPrfGmssh",
        "outputId": "463c02f9-4d0f-454e-af84-64d32b681055"
      },
      "execution_count": 99,
      "outputs": [
        {
          "output_type": "stream",
          "name": "stdout",
          "text": [
            "Dataset has no missing values in any row.\n"
          ]
        }
      ]
    },
    {
      "cell_type": "markdown",
      "source": [
        "Drop the rows with missing values"
      ],
      "metadata": {
        "id": "1f5QGZoJrKY-"
      }
    },
    {
      "cell_type": "code",
      "source": [
        "# Drop rows with missing values\n",
        "final_df = final_df.dropna()\n",
        "\n",
        "# Confirm that missing rows are removed\n",
        "print(\"Rows with missing values have been removed.\")"
      ],
      "metadata": {
        "colab": {
          "base_uri": "https://localhost:8080/"
        },
        "id": "yp1jwEOCm-2E",
        "outputId": "a52c4d22-6584-40d4-c9eb-74fc7cd9b36b"
      },
      "execution_count": 100,
      "outputs": [
        {
          "output_type": "stream",
          "name": "stdout",
          "text": [
            "Rows with missing values have been removed.\n"
          ]
        }
      ]
    },
    {
      "cell_type": "markdown",
      "source": [
        "Modify the values of dates that are not following the format"
      ],
      "metadata": {
        "id": "RwlBXj75rNUd"
      }
    },
    {
      "cell_type": "code",
      "source": [
        "# Preprocess the TIMESTAMP_INIZIO column to add a space between date and time\n",
        "final_df['TIMESTAMP_INIZIO'] = final_df['TIMESTAMP_INIZIO'].str.replace(r'(\\d{4}-\\d{2}-\\d{2})(\\d{2}:\\d{2}:\\d{2}\\.\\d{3})', r'\\1 \\2')\n",
        "final_df['TIMESTAMP_FINE'] = final_df['TIMESTAMP_FINE'].str.replace(r'(\\d{4}-\\d{2}-\\d{2})(\\d{2}:\\d{2}:\\d{2}\\.\\d{3})', r'\\1 \\2')"
      ],
      "metadata": {
        "id": "KjjbPrKKpoWM"
      },
      "execution_count": null,
      "outputs": []
    },
    {
      "cell_type": "markdown",
      "source": [
        "Convert them to datetime in the dataset"
      ],
      "metadata": {
        "id": "1BX1d1mnrT6g"
      }
    },
    {
      "cell_type": "markdown",
      "source": [
        "Convert the columns of start and end timestamps to date"
      ],
      "metadata": {
        "id": "igMmmfmxneKa"
      }
    },
    {
      "cell_type": "code",
      "source": [
        "# Convert 'TIMESTAMP_INIZIO' and 'TIMESTAMP_FINE' columns to datetime\n",
        "final_df['TIMESTAMP_INIZIO'] = pd.to_datetime(final_df['TIMESTAMP_INIZIO'])\n",
        "final_df['TIMESTAMP_FINE'] = pd.to_datetime(final_df['TIMESTAMP_FINE'])\n",
        "\n",
        "# Confirm the conversion\n",
        "print(\"Columns converted to datetime format:\")\n",
        "print(final_df.dtypes)"
      ],
      "metadata": {
        "colab": {
          "base_uri": "https://localhost:8080/"
        },
        "id": "6FrxRiv4ndCP",
        "outputId": "cde143ac-3a4c-4ff0-b808-fd9cbac0d7e3"
      },
      "execution_count": 98,
      "outputs": [
        {
          "output_type": "stream",
          "name": "stdout",
          "text": [
            "Columns converted to datetime format:\n",
            "ID                            int64\n",
            "COD_MACC                    float64\n",
            "COD_ART                      object\n",
            "TIMESTAMP_INIZIO     datetime64[ns]\n",
            "TIMESTAMP_FINE       datetime64[ns]\n",
            "NUMERO_PEZZI_PROD           float64\n",
            "dtype: object\n"
          ]
        }
      ]
    },
    {
      "cell_type": "markdown",
      "source": [
        "Convert COD_ART to string"
      ],
      "metadata": {
        "id": "wifxNoscrX6h"
      }
    },
    {
      "cell_type": "code",
      "source": [
        "final_df['COD_ART'] = final_df['COD_ART'].astype(str)\n",
        "\n",
        "# Confirm the conversion\n",
        "print(\"Columns converted to datetime format:\")\n",
        "print(final_df.dtypes)"
      ],
      "metadata": {
        "colab": {
          "base_uri": "https://localhost:8080/"
        },
        "id": "SOAnsHEeqpwY",
        "outputId": "31bf0886-9598-44a7-971f-e03af9cc1041"
      },
      "execution_count": 103,
      "outputs": [
        {
          "output_type": "stream",
          "name": "stdout",
          "text": [
            "Columns converted to datetime format:\n",
            "ID                            int64\n",
            "COD_MACC                    float64\n",
            "COD_ART                      object\n",
            "TIMESTAMP_INIZIO     datetime64[ns]\n",
            "TIMESTAMP_FINE       datetime64[ns]\n",
            "NUMERO_PEZZI_PROD           float64\n",
            "dtype: object\n"
          ]
        }
      ]
    },
    {
      "cell_type": "markdown",
      "source": [
        "Save the dataset"
      ],
      "metadata": {
        "id": "wBdukVxproOK"
      }
    },
    {
      "cell_type": "code",
      "source": [
        "final_df.to_csv(\"produced_pieces_dataset.csv\", index=False)"
      ],
      "metadata": {
        "id": "3NH7hBA1q2VV"
      },
      "execution_count": 104,
      "outputs": []
    }
  ]
}