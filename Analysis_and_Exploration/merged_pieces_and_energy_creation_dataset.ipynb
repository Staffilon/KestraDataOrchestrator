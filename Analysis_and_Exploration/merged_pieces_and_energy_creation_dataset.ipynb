{
  "nbformat": 4,
  "nbformat_minor": 0,
  "metadata": {
    "colab": {
      "provenance": [],
      "authorship_tag": "ABX9TyNnkOCzKOOU43SgvF9VMZka",
      "include_colab_link": true
    },
    "kernelspec": {
      "name": "python3",
      "display_name": "Python 3"
    },
    "language_info": {
      "name": "python"
    }
  },
  "cells": [
    {
      "cell_type": "markdown",
      "metadata": {
        "id": "view-in-github",
        "colab_type": "text"
      },
      "source": [
        "<a href=\"https://colab.research.google.com/github/Staffilon/KestraDataOrchestrator/blob/main/Analysis_and_Exploration/merged_pieces_and_energy_creation_dataset.ipynb\" target=\"_parent\"><img src=\"https://colab.research.google.com/assets/colab-badge.svg\" alt=\"Open In Colab\"/></a>"
      ]
    },
    {
      "cell_type": "code",
      "execution_count": 2,
      "metadata": {
        "colab": {
          "base_uri": "https://localhost:8080/"
        },
        "id": "IJnW5Mu2Gkh_",
        "outputId": "13a3913b-940a-4aa0-fd16-0de3a0dca15e"
      },
      "outputs": [
        {
          "output_type": "stream",
          "name": "stdout",
          "text": [
            "Drive already mounted at /content/gdrive; to attempt to forcibly remount, call drive.mount(\"/content/gdrive\", force_remount=True).\n"
          ]
        }
      ],
      "source": [
        "from google.colab import drive\n",
        "drive.mount('/content/gdrive')"
      ]
    },
    {
      "cell_type": "code",
      "execution_count": 3,
      "metadata": {
        "colab": {
          "base_uri": "https://localhost:8080/"
        },
        "id": "JtJapBBY_Hhi",
        "outputId": "e6dfc91b-d2db-4cef-9f25-4a9d378dbd80"
      },
      "outputs": [
        {
          "output_type": "stream",
          "name": "stdout",
          "text": [
            "/content/gdrive/.shortcut-targets-by-id/1xGTanGyuk-TCLCMoGz5VNG7sUEscVC-Z/Dati-TBDM/refined_data\n"
          ]
        }
      ],
      "source": [
        "%cd \"/content/gdrive/MyDrive/Dati-TBDM/refined_data\""
      ]
    },
    {
      "cell_type": "code",
      "execution_count": 42,
      "metadata": {
        "id": "niDYZ7JfBHAd"
      },
      "outputs": [],
      "source": [
        "import pandas as pd\n",
        "from datetime import datetime, timedelta\n",
        "from multiprocessing import Pool, cpu_count\n",
        "import numpy as np\n",
        "import multiprocessing"
      ]
    },
    {
      "cell_type": "markdown",
      "metadata": {
        "id": "1SHysTKYD6b1"
      },
      "source": [
        "# Importing the necessary datasets"
      ]
    },
    {
      "cell_type": "markdown",
      "metadata": {
        "id": "erekWZWvB1Ph"
      },
      "source": [
        "Import the Energy dataset (not the one merged with stop codes)"
      ]
    },
    {
      "cell_type": "code",
      "execution_count": 29,
      "metadata": {
        "id": "imLYDZupBh0O"
      },
      "outputs": [],
      "source": [
        "energy_df = pd.read_csv('modified_energy_data.csv', encoding='latin1')"
      ]
    },
    {
      "cell_type": "markdown",
      "metadata": {
        "id": "7JxidRcyCfwz"
      },
      "source": [
        "Import the energy dataset merged with the stop codes"
      ]
    },
    {
      "cell_type": "code",
      "execution_count": 30,
      "metadata": {
        "id": "FksmI60DCjM5"
      },
      "outputs": [],
      "source": [
        "stop_df = pd.read_csv('energy_fermate_merged.csv', encoding = 'latin1')"
      ]
    },
    {
      "cell_type": "markdown",
      "metadata": {
        "id": "bYkl6hajCuEQ"
      },
      "source": [
        "Import the produced pieces dataset"
      ]
    },
    {
      "cell_type": "code",
      "execution_count": 31,
      "metadata": {
        "id": "HsgWs2-hBEg3"
      },
      "outputs": [],
      "source": [
        "pieces_df = pd.read_csv('produced_pieces_dataset.csv', encoding='latin1')"
      ]
    },
    {
      "cell_type": "code",
      "source": [
        "pieces_df.info()"
      ],
      "metadata": {
        "colab": {
          "base_uri": "https://localhost:8080/"
        },
        "id": "40dLVCzkIXCL",
        "outputId": "08c4977f-e98e-46b3-88cf-fb174fd870a9"
      },
      "execution_count": 32,
      "outputs": [
        {
          "output_type": "stream",
          "name": "stdout",
          "text": [
            "<class 'pandas.core.frame.DataFrame'>\n",
            "RangeIndex: 7552095 entries, 0 to 7552094\n",
            "Data columns (total 6 columns):\n",
            " #   Column             Dtype  \n",
            "---  ------             -----  \n",
            " 0   ID                 int64  \n",
            " 1   COD_MACC           float64\n",
            " 2   COD_ART            object \n",
            " 3   TIMESTAMP_INIZIO   object \n",
            " 4   TIMESTAMP_FINE     object \n",
            " 5   NUMERO_PEZZI_PROD  float64\n",
            "dtypes: float64(2), int64(1), object(3)\n",
            "memory usage: 345.7+ MB\n"
          ]
        }
      ]
    },
    {
      "cell_type": "markdown",
      "source": [
        "# Cleaning out the produced pieces dataset"
      ],
      "metadata": {
        "id": "dE8WUocZgkKy"
      }
    },
    {
      "cell_type": "markdown",
      "source": [
        "Taking out the machine that are not present in the energy dataset"
      ],
      "metadata": {
        "id": "DG2Pttl1gpO2"
      }
    },
    {
      "cell_type": "code",
      "source": [
        "pieces_df.info()"
      ],
      "metadata": {
        "colab": {
          "base_uri": "https://localhost:8080/"
        },
        "id": "vaV0FDhIgo-1",
        "outputId": "e20bd2c0-73f2-4ec3-de4c-2047038c03e6"
      },
      "execution_count": 33,
      "outputs": [
        {
          "output_type": "stream",
          "name": "stdout",
          "text": [
            "<class 'pandas.core.frame.DataFrame'>\n",
            "RangeIndex: 7552095 entries, 0 to 7552094\n",
            "Data columns (total 6 columns):\n",
            " #   Column             Dtype  \n",
            "---  ------             -----  \n",
            " 0   ID                 int64  \n",
            " 1   COD_MACC           float64\n",
            " 2   COD_ART            object \n",
            " 3   TIMESTAMP_INIZIO   object \n",
            " 4   TIMESTAMP_FINE     object \n",
            " 5   NUMERO_PEZZI_PROD  float64\n",
            "dtypes: float64(2), int64(1), object(3)\n",
            "memory usage: 345.7+ MB\n"
          ]
        }
      ]
    },
    {
      "cell_type": "code",
      "source": [
        "# Extract unique machines from energy_df\n",
        "unique_machines_energy = energy_df['channel'].unique()"
      ],
      "metadata": {
        "id": "4U-VE1OWg3VE"
      },
      "execution_count": 34,
      "outputs": []
    },
    {
      "cell_type": "code",
      "source": [
        "# Filter pieces_df to include only rows where COD_MACC is present in unique_machines_energy\n",
        "pieces_df = pieces_df[pieces_df['COD_MACC'].isin(unique_machines_energy)]"
      ],
      "metadata": {
        "id": "ADOBKRkthAxO"
      },
      "execution_count": 35,
      "outputs": []
    },
    {
      "cell_type": "code",
      "source": [
        "pieces_df.info()"
      ],
      "metadata": {
        "colab": {
          "base_uri": "https://localhost:8080/"
        },
        "id": "7GJM5a5uhD7h",
        "outputId": "8cb06870-2cc2-484c-c60b-c1fdd618f8d8"
      },
      "execution_count": 36,
      "outputs": [
        {
          "output_type": "stream",
          "name": "stdout",
          "text": [
            "<class 'pandas.core.frame.DataFrame'>\n",
            "Int64Index: 1546520 entries, 210 to 7551634\n",
            "Data columns (total 6 columns):\n",
            " #   Column             Non-Null Count    Dtype  \n",
            "---  ------             --------------    -----  \n",
            " 0   ID                 1546520 non-null  int64  \n",
            " 1   COD_MACC           1546520 non-null  float64\n",
            " 2   COD_ART            1546520 non-null  object \n",
            " 3   TIMESTAMP_INIZIO   1546520 non-null  object \n",
            " 4   TIMESTAMP_FINE     1546520 non-null  object \n",
            " 5   NUMERO_PEZZI_PROD  1546520 non-null  float64\n",
            "dtypes: float64(2), int64(1), object(3)\n",
            "memory usage: 82.6+ MB\n"
          ]
        }
      ]
    },
    {
      "cell_type": "markdown",
      "source": [
        "Taking out the dates that are not present in the energy dataset"
      ],
      "metadata": {
        "id": "lb6gbRQQhLDA"
      }
    },
    {
      "cell_type": "code",
      "source": [
        "# Convert TIMESTAMP_INIZIO and TIMESTAMP_FINE columns to datetime objects\n",
        "pieces_df['TIMESTAMP_INIZIO'] = pd.to_datetime(pieces_df['TIMESTAMP_INIZIO']).dt.tz_localize(None)\n",
        "pieces_df['TIMESTAMP_FINE'] = pd.to_datetime(pieces_df['TIMESTAMP_FINE']).dt.tz_localize(None)\n",
        "\n",
        "# Convert 'TimeStamp' column in energy_df to datetime object\n",
        "energy_df['TimeStamp'] = pd.to_datetime(energy_df['TimeStamp']).dt.tz_localize(None)"
      ],
      "metadata": {
        "id": "ib3Fh_kahJZq"
      },
      "execution_count": 37,
      "outputs": []
    },
    {
      "cell_type": "code",
      "source": [
        "# Find unique dates present in energy_df\n",
        "unique_dates_energy = energy_df['TimeStamp'].dt.date.unique()"
      ],
      "metadata": {
        "id": "CtZiG6t2hU_-"
      },
      "execution_count": 38,
      "outputs": []
    },
    {
      "cell_type": "code",
      "source": [
        "# Filter pieces_df based on whether TIMESTAMP_INIZIO date is in unique_dates_energy\n",
        "pieces_df = pieces_df[pieces_df['TIMESTAMP_INIZIO'].dt.date.isin(unique_dates_energy)]"
      ],
      "metadata": {
        "id": "6RJIVB52hYU3"
      },
      "execution_count": 39,
      "outputs": []
    },
    {
      "cell_type": "code",
      "source": [
        "pieces_df.info()"
      ],
      "metadata": {
        "colab": {
          "base_uri": "https://localhost:8080/"
        },
        "id": "6ELVZm1ehcYM",
        "outputId": "f9f3116a-75c4-4d1d-daf1-ba0c7e001dd8"
      },
      "execution_count": 40,
      "outputs": [
        {
          "output_type": "stream",
          "name": "stdout",
          "text": [
            "<class 'pandas.core.frame.DataFrame'>\n",
            "Int64Index: 715058 entries, 210 to 6808758\n",
            "Data columns (total 6 columns):\n",
            " #   Column             Non-Null Count   Dtype         \n",
            "---  ------             --------------   -----         \n",
            " 0   ID                 715058 non-null  int64         \n",
            " 1   COD_MACC           715058 non-null  float64       \n",
            " 2   COD_ART            715058 non-null  object        \n",
            " 3   TIMESTAMP_INIZIO   715058 non-null  datetime64[ns]\n",
            " 4   TIMESTAMP_FINE     715058 non-null  datetime64[ns]\n",
            " 5   NUMERO_PEZZI_PROD  715058 non-null  float64       \n",
            "dtypes: datetime64[ns](2), float64(2), int64(1), object(1)\n",
            "memory usage: 38.2+ MB\n"
          ]
        }
      ]
    },
    {
      "cell_type": "markdown",
      "metadata": {
        "id": "YEO9h916Dyul"
      },
      "source": [
        "# Mixing up the pieces and energy datasets"
      ]
    },
    {
      "cell_type": "code",
      "source": [
        "def calculate_energy_value(row):\n",
        "    start_time = row['TIMESTAMP_INIZIO']\n",
        "    end_time = row['TIMESTAMP_FINE']\n",
        "    machine_code = row['COD_MACC']\n",
        "\n",
        "    matching_energy_rows = energy_df[(energy_df['channel'] == machine_code) &\n",
        "                                     (energy_df['TimeStamp'] >= start_time) &\n",
        "                                     (energy_df['TimeStamp'] <= end_time)]\n",
        "\n",
        "    if not matching_energy_rows.empty:\n",
        "        return matching_energy_rows['Ea_Imp'].mean()\n",
        "    else:\n",
        "        closest_energy_value = energy_df[(energy_df['channel'] == machine_code) &\n",
        "                                         (energy_df['TimeStamp'] >= start_time - timedelta(minutes=15)) &\n",
        "                                         (energy_df['TimeStamp'] <= start_time)]\n",
        "\n",
        "        if not closest_energy_value.empty:\n",
        "            return closest_energy_value['Ea_Imp'].mean()\n",
        "        else:\n",
        "            return None\n",
        "\n",
        "def calculate_energy_values_chunk(chunk):\n",
        "    return chunk.apply(calculate_energy_value, axis=1)\n",
        "\n",
        "if __name__ == '__main__':\n",
        "    num_processes = multiprocessing.cpu_count()\n",
        "    pool = multiprocessing.Pool(processes=num_processes)\n",
        "\n",
        "    chunk_size = len(pieces_df) // num_processes\n",
        "    chunks = [pieces_df.iloc[i:i+chunk_size] for i in range(0, len(pieces_df), chunk_size)]\n",
        "\n",
        "    results = pool.map(calculate_energy_values_chunk, chunks)\n",
        "    pieces_df['energy_value'] = pd.concat(results)\n",
        "\n",
        "    pieces_df.to_csv('updated_produced_pieces_dataset.csv', index=False)\n"
      ],
      "metadata": {
        "id": "iHMTyLSZICzK"
      },
      "execution_count": null,
      "outputs": []
    },
    {
      "cell_type": "code",
      "source": [
        "updated_pieces_df = pd.read_csv('updated_produced_pieces_dataset.csv')"
      ],
      "metadata": {
        "id": "Wnoj3Jl7kfEJ"
      },
      "execution_count": 37,
      "outputs": []
    },
    {
      "cell_type": "code",
      "source": [
        "# Check the number of non-null values in the 'energy_value' column\n",
        "energy_value_count = updated_pieces_df['energy_value'].count()\n",
        "\n",
        "print(\"Number of non-null values in the 'energy_value' column:\", energy_value_count)"
      ],
      "metadata": {
        "colab": {
          "base_uri": "https://localhost:8080/"
        },
        "id": "oDmJsIIeklFF",
        "outputId": "367a0ad8-5679-4759-cb70-c54e6a83a319"
      },
      "execution_count": 38,
      "outputs": [
        {
          "output_type": "stream",
          "name": "stdout",
          "text": [
            "Number of non-null values in the 'energy_value' column: 0\n"
          ]
        }
      ]
    },
    {
      "cell_type": "code",
      "source": [
        "# Preprocess energy data to create a lookup table\n",
        "energy_lookup = energy_df.set_index('TimeStamp')['Ea_Imp']\n",
        "\n",
        "# Print the energy_lookup table to check its contents\n",
        "print(energy_lookup)"
      ],
      "metadata": {
        "colab": {
          "base_uri": "https://localhost:8080/"
        },
        "id": "p5robTifk6CG",
        "outputId": "434b6127-a03c-4b63-89b0-b007f8e0d4f4"
      },
      "execution_count": 39,
      "outputs": [
        {
          "output_type": "stream",
          "name": "stdout",
          "text": [
            "TimeStamp\n",
            "2022-08-10 00:00:00    113.7\n",
            "2022-08-10 00:15:00    117.1\n",
            "2022-08-10 00:30:00    110.8\n",
            "2022-08-10 00:45:00    111.2\n",
            "2022-08-10 01:00:00    122.5\n",
            "                       ...  \n",
            "2023-08-22 21:30:00      0.0\n",
            "2023-08-22 21:45:00      0.0\n",
            "2023-08-22 22:00:00      0.0\n",
            "2023-08-22 22:15:00      0.0\n",
            "2023-08-22 22:30:00      0.0\n",
            "Name: Ea_Imp, Length: 567805, dtype: float64\n"
          ]
        }
      ]
    }
  ]
}