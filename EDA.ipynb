{
  "nbformat": 4,
  "nbformat_minor": 0,
  "metadata": {
    "colab": {
      "provenance": [],
      "authorship_tag": "ABX9TyNdunL2fsGUPbDOJjp6KVd/",
      "include_colab_link": true
    },
    "kernelspec": {
      "name": "python3",
      "display_name": "Python 3"
    },
    "language_info": {
      "name": "python"
    }
  },
  "cells": [
    {
      "cell_type": "markdown",
      "metadata": {
        "id": "view-in-github",
        "colab_type": "text"
      },
      "source": [
        "<a href=\"https://colab.research.google.com/github/Staffilon/KestraDataOrchestrator/blob/main/EDA.ipynb\" target=\"_parent\"><img src=\"https://colab.research.google.com/assets/colab-badge.svg\" alt=\"Open In Colab\"/></a>"
      ]
    },
    {
      "cell_type": "code",
      "execution_count": 1,
      "metadata": {
        "id": "uAL7hCzZikDn",
        "colab": {
          "base_uri": "https://localhost:8080/"
        },
        "outputId": "753db74f-c904-40a1-a82c-279f9133b307"
      },
      "outputs": [
        {
          "output_type": "stream",
          "name": "stdout",
          "text": [
            "Mounted at /content/drive\n"
          ]
        }
      ],
      "source": [
        "from google.colab import drive\n",
        "drive.mount('/content/drive')"
      ]
    },
    {
      "cell_type": "code",
      "source": [
        "path_to_folder = '/content/drive/My Drive/Dati-TBDM'"
      ],
      "metadata": {
        "id": "765F3bOyijVu"
      },
      "execution_count": 2,
      "outputs": []
    },
    {
      "cell_type": "code",
      "source": [
        "path_to_file = '/content/drive/My Drive/Dati-TBDM/energy_bak/energy_bak/location_Esempio_Industria-channel_Energia_acquistata_totale-register_Ea_Imp_2021-04-01T00-00-00Z_2021-04-06T00-00-00Z.csv'"
      ],
      "metadata": {
        "id": "CCPTSaFcimFe"
      },
      "execution_count": 3,
      "outputs": []
    },
    {
      "cell_type": "code",
      "source": [
        "import pandas as pd\n",
        "\n",
        "# Leggi il file CSV\n",
        "df = pd.read_csv(path_to_file)\n",
        "\n",
        "# Visualizza le prime 5 righe del DataFrame\n",
        "print(df.head())\n",
        "\n",
        "# Visualizza le informazioni sul DataFrame, inclusi il numero di righe, colonne, tipi di dati delle colonne e memoria utilizzata\n",
        "print(df.info())\n",
        "\n",
        "# Visualizza le statistiche descrittive per le colonne numeriche\n",
        "print(df.describe())\n",
        "\n",
        "# Visualizza le dimensioni del DataFrame (righe, colonne)\n",
        "print(df.shape)"
      ],
      "metadata": {
        "colab": {
          "base_uri": "https://localhost:8080/"
        },
        "id": "b8mc53mjjovd",
        "outputId": "7df02271-70a3-47d4-9b37-4882c75b7726"
      },
      "execution_count": 4,
      "outputs": [
        {
          "output_type": "stream",
          "name": "stdout",
          "text": [
            "   id             TimeStamp  Ea_Imp\n",
            "0   0  2021-04-01T00:00:00Z   445.3\n",
            "1   1  2021-04-01T00:15:00Z   437.9\n",
            "2   2  2021-04-01T00:30:00Z   450.6\n",
            "3   3  2021-04-01T00:45:00Z   457.6\n",
            "4   4  2021-04-01T01:00:00Z   438.9\n",
            "<class 'pandas.core.frame.DataFrame'>\n",
            "RangeIndex: 480 entries, 0 to 479\n",
            "Data columns (total 3 columns):\n",
            " #   Column     Non-Null Count  Dtype  \n",
            "---  ------     --------------  -----  \n",
            " 0   id         480 non-null    int64  \n",
            " 1   TimeStamp  480 non-null    object \n",
            " 2   Ea_Imp     480 non-null    float64\n",
            "dtypes: float64(1), int64(1), object(1)\n",
            "memory usage: 11.4+ KB\n",
            "None\n",
            "               id       Ea_Imp\n",
            "count  480.000000   480.000000\n",
            "mean   239.500000   375.732917\n",
            "std    138.708327   419.550298\n",
            "min      0.000000     0.000000\n",
            "25%    119.750000   123.975000\n",
            "50%    239.500000   440.300000\n",
            "75%    359.250000   467.000000\n",
            "max    479.000000  5287.000000\n",
            "(480, 3)\n"
          ]
        }
      ]
    }
  ]
}